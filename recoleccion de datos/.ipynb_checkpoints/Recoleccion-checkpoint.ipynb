{
 "cells": [
  {
   "cell_type": "code",
   "execution_count": 2,
   "metadata": {},
   "outputs": [
    {
     "data": {
      "text/plain": [
       "{'BTC': {'EUR': 32097.54}}"
      ]
     },
     "execution_count": 2,
     "metadata": {},
     "output_type": "execute_result"
    }
   ],
   "source": [
    "#Para obtener los precios actuales\n",
    "import cryptocompare\n",
    "from datetime import datetime\n",
    "import csv\n",
    "import time\n",
    "import numpy as np\n",
    "\n",
    "#Abrimos el fichero .csv para rellenar\n",
    "file = open(\"outFile.csv\", \"a\")\n",
    "csvWriter = csv.writer( file )\n",
    "\n",
    "cryptocompare.get_price('BTC')\n",
    "\n"
   ]
  },
  {
   "cell_type": "code",
   "execution_count": 4,
   "metadata": {},
   "outputs": [
    {
     "ename": "SyntaxError",
     "evalue": "invalid syntax (<ipython-input-4-e4aead32e16c>, line 26)",
     "output_type": "error",
     "traceback": [
      "\u001b[0;36m  File \u001b[0;32m\"<ipython-input-4-e4aead32e16c>\"\u001b[0;36m, line \u001b[0;32m26\u001b[0m\n\u001b[0;31m    print \"El valor del precio: \" + str(valor_btc)\u001b[0m\n\u001b[0m          ^\u001b[0m\n\u001b[0;31mSyntaxError\u001b[0m\u001b[0;31m:\u001b[0m invalid syntax\n"
     ]
    }
   ],
   "source": [
    "for x in range(10):#10 minutos\n",
    "    minuto=datetime.now().minute\n",
    "    valor_btc=[]\n",
    "\n",
    "    i=0\n",
    "    precio_max=0\n",
    "    precio_min=0\n",
    "    while i<60:  #Lo idoneo sería 60, pero por condición de carrera pudiera fallar\n",
    "        now = datetime.now()\n",
    "        #Añadimos a los datos el valor máximo y el mínimo\n",
    "        precio=cryptocompare.get_price('BTC')['BTC']['EUR']\n",
    "        if precio_max==0:\n",
    "            precio_max=precio\n",
    "            precio_min=precio\n",
    "\n",
    "        elif precio_max<precio:\n",
    "            precio_max=precio\n",
    "        elif precio_min>precio:\n",
    "            precio_min=precio\n",
    "        else:\n",
    "            print(\"No se modifica nada\")\n",
    "\n",
    "        if(now.minute==minuto):\n",
    "            valor_btc.append(precio)\n",
    "            print(\"El valor de minuto: \" + str(now.minute))\n",
    "            print (\"El valor del precio: \" + str(valor_btc))\n",
    "        else:\n",
    "            print(\"El valor de minuto dentro del else: \" + str(now.minute))\n",
    "            print(\"El valor de i \"+str(i) + \"El valor del sumatorio: \"+str(sum(valor_btc)))\n",
    "            media_minuto=np.sum(valor_btc)/i\n",
    "            fecha=str(now.year) +'/'+str(now.month)+'/'+str(now.day)+'/'+str(now.minute)\n",
    "            csvWriter.writerow( [fecha, media_minuto, precio_max, precio_min] )\n",
    "\n",
    "            print(\"El valor de la media en el minuto \" + str(now.minute) +\" es \" + str(media_minuto))\n",
    "\n",
    "            i=60#para salir del for interno\n",
    "        i+=1\n",
    "        print(\"ciclo interno\")\n",
    "        time.sleep(1)\n",
    "    print(\"Ciclo externo\")"
   ]
  },
  {
   "cell_type": "code",
   "execution_count": null,
   "metadata": {},
   "outputs": [],
   "source": []
  }
 ],
 "metadata": {
  "kernelspec": {
   "display_name": "Python 3",
   "language": "python",
   "name": "python3"
  },
  "language_info": {
   "codemirror_mode": {
    "name": "ipython",
    "version": 3
   },
   "file_extension": ".py",
   "mimetype": "text/x-python",
   "name": "python",
   "nbconvert_exporter": "python",
   "pygments_lexer": "ipython3",
   "version": "3.8.3"
  }
 },
 "nbformat": 4,
 "nbformat_minor": 4
}
